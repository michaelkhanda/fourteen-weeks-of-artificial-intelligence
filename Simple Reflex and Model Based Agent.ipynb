{
 "cells": [
  {
   "cell_type": "code",
   "execution_count": 7,
   "id": "97a67d5d",
   "metadata": {},
   "outputs": [
    {
     "name": "stdout",
     "output_type": "stream",
     "text": [
      "Location A\n",
      "Location Condition {'A': 1, 'B': 0}\n",
      "A Has been cleaned\n",
      "B Is clean\n",
      "Location Condition {'A': 0, 'B': 0}\n"
     ]
    }
   ],
   "source": [
    "#simple reflex agent\n",
    "import random\n",
    "class Environment(object):\n",
    "    def __init__(self):\n",
    "        self.location = [\"A\", \"B\"]\n",
    "        self.locationCondition = {\"A\":\"0\", \"B\":\"0\"}\n",
    "        \n",
    "        self.vaccumLocation = random.choice(self.location)\n",
    "        self.locationCondition[\"A\"] = random.randint(0,1)\n",
    "        self.locationCondition[\"B\"] = random.randint(0,1)\n",
    "        \n",
    "class Agent(Environment):\n",
    "    def __init__(self, Environment):\n",
    "        print(\"Location\", Environment.vaccumLocation)\n",
    "        print(\"Location Condition\", Environment.locationCondition)\n",
    "        count = 0\n",
    "        while count < 2:\n",
    "            if Environment.locationCondition[Environment.vaccumLocation] == 1:\n",
    "                Environment.locationCondition[Environment.vaccumLocation] = 0\n",
    "                print(Environment.vaccumLocation, \"Has been cleaned\")\n",
    "            \n",
    "            else:\n",
    "                print(Environment.vaccumLocation, \"Is clean\")\n",
    "                \n",
    "            newIndex = Environment.location.index(Environment.vaccumLocation) + 1\n",
    "            if newIndex == 2:\n",
    "                newIndex = 0\n",
    "            Environment.vaccumLocation = Environment.location[newIndex]\n",
    "            count +=1\n",
    "            \n",
    "        print(\"Location Condition\", Environment.locationCondition)\n",
    "        \n",
    "TheEnvironment = Environment()\n",
    "TheVaccum = Agent(TheEnvironment)\n",
    "        \n"
   ]
  },
  {
   "cell_type": "code",
   "execution_count": 16,
   "id": "ac9d9d91",
   "metadata": {},
   "outputs": [
    {
     "name": "stdout",
     "output_type": "stream",
     "text": [
      "Location A\n",
      "Location Condition {'A': 1, 'B': 0}\n",
      "Cleaning Mode {'A': 'L', 'B': 'T'}\n",
      "A Has been cleaned\n",
      "B Is clean\n",
      "Location Condition {'A': 0, 'B': 0}\n",
      "Location B\n",
      "Location Condition {'A': 1, 'B': 0}\n",
      "Cleaning Mode {'A': 'L', 'B': 'T'}\n",
      "B Is clean\n",
      "A Has been cleaned\n",
      "Location Condition {'A': 0, 'B': 0}\n"
     ]
    }
   ],
   "source": [
    "#model based agent\n",
    "\n",
    "import random\n",
    "class Environment(object):\n",
    "    def __init__(self):\n",
    "        self.location = [\"A\", \"B\"]\n",
    "        self.locationCondition = {\"A\":\"0\", \"B\":\"0\"}\n",
    "        \n",
    "        self.vaccumLocation = random.choice(self.location)\n",
    "        self.locationCondition[\"A\"] = random.randint(0,1)\n",
    "        self.locationCondition[\"B\"] = random.randint(0,1)\n",
    "        \n",
    "        self.cleaningMethod = {\"A\":\"L\", \"B\":\"T\"}\n",
    "        \n",
    "class Agent(Environment):\n",
    "    def __init__(self, Environment):\n",
    "        print(\"Location\", Environment.vaccumLocation)\n",
    "        print(\"Location Condition\", Environment.locationCondition)\n",
    "        print(\"Cleaning Mode\", Environment.cleaningMethod)\n",
    "        count = 0\n",
    "        while count < 2:\n",
    "            if Environment.locationCondition[Environment.vaccumLocation] == 1:\n",
    "                if Environment.cleaningMethod[Environment.vaccumLocation] == \"T\":\n",
    "                    Environment.cleaningMethod[Environment.vaccumLocation] = (\"L\")\n",
    "                else:\n",
    "                    Environment.cleaningMethod[Environment.vaccumLocation] = (\"T\")\n",
    "                Environment.locationCondition[Environment.vaccumLocation] = 0\n",
    "                print(Environment.vaccumLocation, \"Has been cleaned\")\n",
    "            \n",
    "            else:\n",
    "                print(Environment.vaccumLocation, \"Is clean\")\n",
    "                \n",
    "            newIndex = Environment.location.index(Environment.vaccumLocation) + 1\n",
    "            if newIndex == 2:\n",
    "                newIndex = 0\n",
    "            Environment.vaccumLocation = Environment.location[newIndex]\n",
    "            count +=1\n",
    "            \n",
    "        print(\"Location Condition\", Environment.locationCondition)\n",
    "        \n",
    "x = 0\n",
    "while(x<2):\n",
    "    TheEnvironment = Environment()\n",
    "    TheVaccum = Agent(TheEnvironment)\n",
    "    x+=1\n",
    "        \n",
    "\n"
   ]
  },
  {
   "cell_type": "code",
   "execution_count": null,
   "id": "7c639ce2",
   "metadata": {},
   "outputs": [],
   "source": []
  }
 ],
 "metadata": {
  "kernelspec": {
   "display_name": "Python 3 (ipykernel)",
   "language": "python",
   "name": "python3"
  },
  "language_info": {
   "codemirror_mode": {
    "name": "ipython",
    "version": 3
   },
   "file_extension": ".py",
   "mimetype": "text/x-python",
   "name": "python",
   "nbconvert_exporter": "python",
   "pygments_lexer": "ipython3",
   "version": "3.9.13"
  }
 },
 "nbformat": 4,
 "nbformat_minor": 5
}
