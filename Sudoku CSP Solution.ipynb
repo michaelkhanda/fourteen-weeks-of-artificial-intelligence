{
 "cells": [
  {
   "cell_type": "markdown",
   "id": "206b3cbd",
   "metadata": {},
   "source": [
    "# _SUDOKU CSP SOLUTION_"
   ]
  },
  {
   "cell_type": "code",
   "execution_count": 1,
   "id": "d5cc365f",
   "metadata": {},
   "outputs": [
    {
     "name": "stdout",
     "output_type": "stream",
     "text": [
      "==================\n",
      "|534 | 678 | 912 | \n",
      "|672 | 195 | 348 | \n",
      "|198 | 342 | 567 | \n",
      "------------------\n",
      "|859 | 761 | 423 | \n",
      "|426 | 853 | 791 | \n",
      "|713 | 924 | 856 | \n",
      "------------------\n",
      "|961 | 537 | 284 | \n",
      "|287 | 419 | 635 | \n",
      "|345 | 286 | 179 | \n",
      "==================\n"
     ]
    }
   ],
   "source": [
    "board=      [[5, 3, 0, 0, 7, 0, 0, 0, 0],\n",
    "            [6, 0, 0, 1, 9, 5, 0, 0, 0],\n",
    "            [0, 9, 8, 0, 0, 0, 0, 6, 0],\n",
    "            [8, 0, 0, 0, 6, 0, 0, 0, 3],\n",
    "            [4, 0, 0, 8, 0, 3, 0, 0, 1],\n",
    "            [7, 0, 0, 0, 2, 0, 0, 0, 6],\n",
    "            [0, 6, 0, 0, 0, 0, 2, 8, 0],\n",
    "            [0, 0, 0, 4, 1, 9, 0, 0, 5],\n",
    "            [0, 0, 0, 0, 8, 0, 0, 7, 9]]\n",
    "\n",
    "\n",
    "import constraint  \n",
    "\n",
    "problem = constraint.Problem()\n",
    "\n",
    "# VARIABLES 11 through 99 have an interval of [1..9]\n",
    "for i in range(1, 10):  \n",
    "    problem.addVariables(range(i * 10 + 1, i * 10 + 10), range(1, 10))\n",
    "\n",
    "# constraint- all values in a row must be different\n",
    "for i in range(1, 10):  \n",
    "    problem.addConstraint(constraint.AllDifferentConstraint(), range(i * 10 + 1, i * 10 + 10))\n",
    "\n",
    "# constraint- all values in a columns must be different\n",
    "for i in range(1, 10):  \n",
    "    problem.addConstraint(constraint.AllDifferentConstraint(), range(10 + i, 100 + i, 10))\n",
    "\n",
    "# constraint - each nine (3x3) squares must have all different values,\n",
    "#square \"starts\" at row indices 1, 4, 7\n",
    "for i in [1,4,7]:  \n",
    "    # same for columns, \n",
    "    for j in [1,4,7]:\n",
    "        square = [10*i+j,10*i+j+1,10*i+j+2,10*(i+1)+j,10*(i+1)+j+1,10*(i+1)+j+2,10*(i+2)+j,10*(i+2)+j+1,10*(i+2)+j+2]\n",
    "        problem.addConstraint(constraint.AllDifferentConstraint(), square)\n",
    "\n",
    "\n",
    "# empty cells are marked by 0\n",
    "# other values indicate cell already solved, we don't need to solve them\n",
    "for i in range(9):  \n",
    "    for j in range(9):\n",
    "        if board[i][j] != 0:\n",
    "            def c(variable_value, value_in_table = board[i][j]):\n",
    "                if variable_value == value_in_table:\n",
    "                    return True\n",
    "            problem.addConstraint(c, [((i+1)*10 + (j+1))])\n",
    "\n",
    "solutions = problem.getSolutions()\n",
    "\n",
    "for s in solutions:  \n",
    "    print(\"==================\")\n",
    "    for i in range(1,10):\n",
    "        print(\"|\", end='')\n",
    "        for j in range(1,10):\n",
    "            if j%3 == 0:\n",
    "                print(str(s[i*10+j])+\" | \", end='')\n",
    "            else:\n",
    "                print(str(s[i*10+j]), end='')\n",
    "        print(\"\")\n",
    "        if i%3 == 0 and i!=9:\n",
    "            print(\"------------------\")\n",
    "    print(\"==================\")\n",
    "\n",
    "if len(solutions) == 0:  \n",
    "    print(\"No solutions found.\")\n"
   ]
  },
  {
   "cell_type": "code",
   "execution_count": null,
   "id": "b961e11b",
   "metadata": {},
   "outputs": [],
   "source": []
  }
 ],
 "metadata": {
  "kernelspec": {
   "display_name": "Python 3 (ipykernel)",
   "language": "python",
   "name": "python3"
  },
  "language_info": {
   "codemirror_mode": {
    "name": "ipython",
    "version": 3
   },
   "file_extension": ".py",
   "mimetype": "text/x-python",
   "name": "python",
   "nbconvert_exporter": "python",
   "pygments_lexer": "ipython3",
   "version": "3.9.13"
  }
 },
 "nbformat": 4,
 "nbformat_minor": 5
}
