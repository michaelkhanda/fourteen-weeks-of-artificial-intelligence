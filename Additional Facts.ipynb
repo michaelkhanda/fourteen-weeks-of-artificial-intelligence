{
 "cells": [
  {
   "cell_type": "code",
   "execution_count": 1,
   "id": "1611981b",
   "metadata": {},
   "outputs": [
    {
     "name": "stdout",
     "output_type": "stream",
     "text": [
      "('languages',)\n"
     ]
    }
   ],
   "source": [
    "from kanren import *\n",
    "\n",
    "tools = Relation()\n",
    "facts(tools,(\"languages\",\"python\"),\n",
    "            (\"languages\", \"java\"),\n",
    "            (\"packages\", \"word\"),\n",
    "            (\"packages\", \"excel\"), \n",
    "            (\"os\", \"windows\"),\n",
    "            (\"os\",\"linux\"))\n",
    "\n",
    "tools_v = var()\n",
    "print(run(0, tools_v, tools(tools_v, \"java\")))"
   ]
  },
  {
   "cell_type": "code",
   "execution_count": 2,
   "id": "8f0578e8",
   "metadata": {},
   "outputs": [
    {
     "name": "stdout",
     "output_type": "stream",
     "text": [
      "('packages',)\n"
     ]
    }
   ],
   "source": [
    "from kanren import *\n",
    "\n",
    "tools = Relation()\n",
    "facts(tools,(\"languages\",\"python\"),\n",
    "            (\"languages\", \"java\"),\n",
    "            (\"packages\", \"word\"),\n",
    "            (\"packages\", \"excel\"), \n",
    "            (\"os\", \"windows\"),\n",
    "            (\"os\",\"linux\"),\n",
    "            (\"cs\",\"languages\"),\n",
    "            (\"cs\",\"os\"),\n",
    "            (\"non_cs\", \"packages\"))\n",
    "\n",
    " \n",
    "class_v,tools_v = var(), var()\n",
    "print(run(0, tools_v, tools(class_v, tools_v), tools(tools_v, \"excel\")))"
   ]
  },
  {
   "cell_type": "code",
   "execution_count": 11,
   "id": "5ccf118c",
   "metadata": {},
   "outputs": [
    {
     "name": "stdout",
     "output_type": "stream",
     "text": [
      "('python', 'java', 'linux', 'windows')\n"
     ]
    }
   ],
   "source": [
    "from kanren import *\n",
    "\n",
    "tools = Relation()\n",
    "courses = Relation()\n",
    "facts(tools,(\"languages\",\"python\"),\n",
    "            (\"languages\", \"java\"),\n",
    "            (\"packages\", \"word\"),\n",
    "            (\"packages\", \"excel\"), \n",
    "            (\"os\", \"windows\"),\n",
    "            (\"os\",\"linux\"))\n",
    "\n",
    "facts(courses,(\"languages\",\"cs\"),\n",
    "              (\"packages\", \"non_cs\"), \n",
    "              (\"os\",\"cs\"))\n",
    " \n",
    "class_v,tools_v = var(), var()\n",
    "print(run(0, tools_v, tools(class_v, tools_v), courses(class_v, \"cs\")))"
   ]
  },
  {
   "cell_type": "code",
   "execution_count": null,
   "id": "a986b058",
   "metadata": {},
   "outputs": [],
   "source": []
  }
 ],
 "metadata": {
  "kernelspec": {
   "display_name": "Python 3 (ipykernel)",
   "language": "python",
   "name": "python3"
  },
  "language_info": {
   "codemirror_mode": {
    "name": "ipython",
    "version": 3
   },
   "file_extension": ".py",
   "mimetype": "text/x-python",
   "name": "python",
   "nbconvert_exporter": "python",
   "pygments_lexer": "ipython3",
   "version": "3.9.13"
  }
 },
 "nbformat": 4,
 "nbformat_minor": 5
}
