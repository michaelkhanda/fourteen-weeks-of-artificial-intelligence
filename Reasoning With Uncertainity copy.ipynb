{
 "cells": [
  {
   "cell_type": "code",
   "execution_count": 2,
   "id": "9ebedf9c",
   "metadata": {},
   "outputs": [
    {
     "name": "stdout",
     "output_type": "stream",
     "text": [
      "Features:  ['mean radius' 'mean texture' 'mean perimeter' 'mean area'\n",
      " 'mean smoothness' 'mean compactness' 'mean concavity'\n",
      " 'mean concave points' 'mean symmetry' 'mean fractal dimension'\n",
      " 'radius error' 'texture error' 'perimeter error' 'area error'\n",
      " 'smoothness error' 'compactness error' 'concavity error'\n",
      " 'concave points error' 'symmetry error' 'fractal dimension error'\n",
      " 'worst radius' 'worst texture' 'worst perimeter' 'worst area'\n",
      " 'worst smoothness' 'worst compactness' 'worst concavity'\n",
      " 'worst concave points' 'worst symmetry' 'worst fractal dimension']\n",
      "Labels:  ['malignant' 'benign']\n",
      "Accuracy:  0.9370629370629371\n",
      "[[-0.1839902   0.22170989 -0.11761404 -0.26973359  0.97193444  0.69163406\n",
      "   0.66422425  0.86379926  1.07264367  1.30108456 -0.06387943 -0.52896594\n",
      "   0.08026487 -0.16010411 -0.5157891  -0.19713754  0.07853594  0.18366786\n",
      "  -0.4507456  -0.01293877  0.06089154  0.60582702  0.20398748 -0.02939386\n",
      "   1.12864697  0.73704174  0.97465513  1.40089716  1.16977773  1.37108056]\n",
      " [-0.23927557  1.20953909 -0.30776593 -0.32756529 -0.57492927 -0.92580153\n",
      "  -0.73956439 -0.71148962 -0.80536136 -0.9836759  -0.80543757  0.21044227\n",
      "  -0.85774844 -0.62021463 -0.41371289 -0.91150812 -0.66647515 -0.81890411\n",
      "  -0.87464651 -0.82601506 -0.38282965  1.32199868 -0.47336605 -0.44009447\n",
      "  -0.13610472 -0.88286449 -0.59768168 -0.79588429 -0.81775175 -0.91991041]\n",
      " [-0.00358531 -0.79326895 -0.07782455 -0.11654109 -1.13736319 -0.86168389\n",
      "  -0.82190685 -0.56077391 -0.91872183 -0.98105125 -0.78183144 -1.01502898\n",
      "  -0.7037856  -0.57245922 -0.68216754 -0.85482138 -0.89231863 -0.19180546\n",
      "  -1.08304472 -0.72293327 -0.26220641 -1.01613724 -0.31210605 -0.33135105\n",
      "  -1.26772465 -0.90954393 -0.92095006 -0.46102846 -1.35426278 -0.9614486 ]\n",
      " [ 0.06624884 -0.26907206 -0.00955416 -0.03471537 -2.08497913 -0.92324364\n",
      "  -0.77526615 -0.89059357 -0.74490245 -0.98105125 -0.71752508 -0.99017048\n",
      "  -0.67478575 -0.53499839 -1.16313675 -0.63258583 -0.83182005 -0.99470712\n",
      "  -1.16356222 -0.77783553  0.0199658  -0.08370368 -0.02682358 -0.07735748\n",
      "  -1.66490106 -0.24255784 -0.5236346  -0.56492312 -0.48330332 -0.44701409]\n",
      " [-0.29165118 -0.21686122 -0.3701726  -0.37093907 -0.44403556 -1.17118791\n",
      "  -0.76480806 -0.49083563 -1.37972105 -0.61753681 -0.90515313  1.95935246\n",
      "  -0.93367532 -0.71801314 -0.8220177  -1.06759279 -0.73054151 -0.06373704\n",
      "   0.69307642 -0.84506278 -0.60899821 -0.46764691 -0.68355799 -0.60903515\n",
      "  -1.5512953  -1.23149522 -0.98133017 -0.94612263 -1.6138087  -1.24955323]]\n",
      "[0 1 1 1 1 1 1 1 1 1 1 1 1 1 1 0 1 0 0 0 0 0 1 1 0 1 1 0 1 0 1 0 1 0 1 0 1\n",
      " 0 1 0 0 1 0 1 1 0 1 1 1 0 0 0 0 1 1 1 1 1 1 0 0 0 1 1 0 1 0 0 0 1 1 0 1 0\n",
      " 0 1 1 1 1 1 0 0 0 1 0 1 1 1 0 0 1 0 1 0 1 1 0 1 1 1 1 1 1 1 0 1 0 1 0 0 1\n",
      " 0 0 1 1 1 1 1 1 1 1 1 0 1 0 1 1 1 1 1 0 1 1 1 1 1 1 0 0 1 1 1 0]\n"
     ]
    }
   ],
   "source": [
    "from sklearn.model_selection import train_test_split\n",
    "from sklearn.datasets import load_breast_cancer\n",
    "from sklearn.naive_bayes import GaussianNB\n",
    "import pandas as pd\n",
    "from sklearn.preprocessing import StandardScaler\n",
    "from sklearn.metrics import accuracy_score\n",
    "from sklearn import metrics\n",
    "\n",
    "cancer = load_breast_cancer()\n",
    "\n",
    "print(\"Features: \", cancer.feature_names)\n",
    "print(\"Labels: \", cancer.target_names)\n",
    "\n",
    "dataSet = cancer\n",
    "X_train, X_test, y_train, y_test = train_test_split(cancer.data, cancer.target, test_size=0.25, random_state=0)\n",
    "sc = StandardScaler()\n",
    "X_train = sc.fit_transform(X_train)\n",
    "X_test = sc.fit_transform(X_test)\n",
    "\n",
    "model = GaussianNB()\n",
    "model.fit(X_train, y_train)\n",
    "\n",
    "y_pred = model.predict(X_test)\n",
    "print(\"Accuracy: \",accuracy_score(y_pred, y_test))\n",
    "\n",
    "print(X_test[:5])\n",
    "print(y_test)\n"
   ]
  },
  {
   "cell_type": "code",
   "execution_count": null,
   "id": "e6bf301a",
   "metadata": {},
   "outputs": [],
   "source": []
  }
 ],
 "metadata": {
  "kernelspec": {
   "display_name": "Python 3 (ipykernel)",
   "language": "python",
   "name": "python3"
  },
  "language_info": {
   "codemirror_mode": {
    "name": "ipython",
    "version": 3
   },
   "file_extension": ".py",
   "mimetype": "text/x-python",
   "name": "python",
   "nbconvert_exporter": "python",
   "pygments_lexer": "ipython3",
   "version": "3.9.13"
  }
 },
 "nbformat": 4,
 "nbformat_minor": 5
}
