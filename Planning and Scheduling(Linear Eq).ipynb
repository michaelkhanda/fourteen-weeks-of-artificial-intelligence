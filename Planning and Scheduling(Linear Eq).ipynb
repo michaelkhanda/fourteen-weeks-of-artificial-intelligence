{
 "cells": [
  {
   "cell_type": "code",
   "execution_count": 7,
   "id": "80f7b31f",
   "metadata": {},
   "outputs": [
    {
     "name": "stdout",
     "output_type": "stream",
     "text": [
      "Welcome to the CBC MILP Solver \n",
      "Version: 2.10.3 \n",
      "Build Date: Dec 15 2019 \n",
      "\n",
      "command line - /Users/michaelkhanda/opt/anaconda3/lib/python3.9/site-packages/pulp/solverdir/cbc/osx/64/cbc /var/folders/gt/2rwqh0s57lz9g2_vgnmc4q800000gn/T/fe61e2c6586d4a47ae8d12bfbce0a455-pulp.mps timeMode elapsed branch printingOptions all solution /var/folders/gt/2rwqh0s57lz9g2_vgnmc4q800000gn/T/fe61e2c6586d4a47ae8d12bfbce0a455-pulp.sol (default strategy 1)\n",
      "At line 2 NAME          MODEL\n",
      "At line 3 ROWS\n",
      "At line 9 COLUMNS\n",
      "At line 18 RHS\n",
      "At line 23 BOUNDS\n",
      "At line 24 ENDATA\n",
      "Problem MODEL has 4 rows, 2 columns and 6 elements\n",
      "Coin0008I MODEL read with 0 errors\n",
      "Option for timeMode changed from cpu to elapsed\n",
      "Presolve 0 (-4) rows, 0 (-2) columns and 0 (-6) elements\n",
      "Empty problem - 0 rows, 0 columns and 0 elements\n",
      "Optimal - objective value 18\n",
      "After Postsolve, objective 18, infeasibilities - dual 0 (0), primal 0 (0)\n",
      "Optimal objective 18 - 0 iterations time 0.002, Presolve 0.00\n",
      "Option for printingOptions changed from normal to all\n",
      "Total time (CPU seconds):       0.00   (Wallclock seconds):       0.00\n",
      "\n",
      "Example_1:\n",
      "MINIMIZE\n",
      "3*x + 5*y + 0\n",
      "SUBJECT TO\n",
      "_C1: 2 x + 3 y >= 12\n",
      "\n",
      "_C2: - x + y <= 3\n",
      "\n",
      "_C3: x >= 4\n",
      "\n",
      "_C4: y <= 3\n",
      "\n",
      "VARIABLES\n",
      "x Continuous\n",
      "y Continuous\n",
      "\n",
      "Optimal\n",
      "6.0 0.0 18.0\n"
     ]
    }
   ],
   "source": [
    "import pulp\n",
    "lp_problem = pulp.LpProblem(\"Example 1\", pulp.LpMinimize)\n",
    "x = pulp.LpVariable(\"x\", lowBound = 0)\n",
    "y = pulp.LpVariable(\"y\", lowBound = 0)\n",
    "\n",
    "lp_problem += 3 * x + 5 * y\n",
    "lp_problem += 2 * x + 3 * y >= 12\n",
    "lp_problem += -x + y <= 3\n",
    "lp_problem += x >= 4\n",
    "lp_problem += y <= 3\n",
    "\n",
    "\n",
    "status = lp_problem.solve()\n",
    "print(lp_problem)\n",
    "print(pulp.LpStatus[status])\n",
    "print(pulp.value(x), pulp.value(y), pulp.value(lp_problem.objective))"
   ]
  },
  {
   "cell_type": "code",
   "execution_count": null,
   "id": "0afaf3ce",
   "metadata": {},
   "outputs": [],
   "source": []
  }
 ],
 "metadata": {
  "kernelspec": {
   "display_name": "Python 3 (ipykernel)",
   "language": "python",
   "name": "python3"
  },
  "language_info": {
   "codemirror_mode": {
    "name": "ipython",
    "version": 3
   },
   "file_extension": ".py",
   "mimetype": "text/x-python",
   "name": "python",
   "nbconvert_exporter": "python",
   "pygments_lexer": "ipython3",
   "version": "3.9.13"
  }
 },
 "nbformat": 4,
 "nbformat_minor": 5
}
