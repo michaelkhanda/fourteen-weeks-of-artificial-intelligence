{
 "cells": [
  {
   "cell_type": "code",
   "execution_count": 11,
   "id": "3d658538",
   "metadata": {},
   "outputs": [
    {
     "name": "stdout",
     "output_type": "stream",
     "text": [
      "['Michael', 'Khanda', 'Ingutia', 'Neema']\n",
      "<class 'list'>\n",
      "Ingutia\n",
      "['Michael', 'Khanda', 'Ingutia', 'Edith']\n",
      "['Edith', 'Ingutia', 'Khanda', 'Michael']\n",
      "['Edith', 'Ingutia', 'Khanda', 'Michael', 'Leiyan']\n"
     ]
    }
   ],
   "source": [
    "x = [\"Michael\", \"Khanda\", \"Ingutia\", \"Neema\"]\n",
    "print(x)\n",
    "print(type (x))\n",
    "print (x[2])\n",
    "x[3] = \"Edith\"\n",
    "print (x)\n",
    "x.sort()\n",
    "print(x)\n",
    "x.append(\"Leiyan\")\n",
    "print(x)\n"
   ]
  },
  {
   "cell_type": "code",
   "execution_count": 17,
   "id": "a1ba882e",
   "metadata": {},
   "outputs": [
    {
     "name": "stdout",
     "output_type": "stream",
     "text": [
      "('Michael', 'Khanda', 'Ingutia', 'Neema')\n",
      "<class 'tuple'>\n",
      "Ingutia\n",
      "4\n"
     ]
    }
   ],
   "source": [
    "#working with tuples\n",
    "\n",
    "x = (\"Michael\", \"Khanda\", \"Ingutia\", \"Neema\")\n",
    "print(x)\n",
    "print(type (x))\n",
    "print (x[2])\n",
    "print(len(x))\n"
   ]
  },
  {
   "cell_type": "code",
   "execution_count": 22,
   "id": "64ef1dec",
   "metadata": {},
   "outputs": [
    {
     "name": "stdout",
     "output_type": "stream",
     "text": [
      "{'Michael', 'Neema', 'Ingutia', 'Khanda'}\n",
      "<class 'set'>\n",
      "4\n"
     ]
    }
   ],
   "source": [
    "#Working with sets\n",
    "\n",
    "x = {\"Michael\", \"Khanda\", \"Ingutia\", \"Neema\"}\n",
    "print(x)\n",
    "print(type (x))\n",
    "print(len(x))"
   ]
  },
  {
   "cell_type": "code",
   "execution_count": 28,
   "id": "798d83d0",
   "metadata": {},
   "outputs": [
    {
     "name": "stdout",
     "output_type": "stream",
     "text": [
      "{'Number': [100, 200, 300], 'Name': ['Michael', 'Khanda', 'Ingutia']}\n",
      "<class 'dict'>\n",
      "['Michael', 'Khanda', 'Ingutia']\n",
      "{'Number': [100, 200, 300], 'Name': ['Michael', 'Khanda', 'Neema']}\n"
     ]
    }
   ],
   "source": [
    "#Working with dictionaries\n",
    "\n",
    "x={\"Number\":[100,200, 300],\n",
    "  \"Name\": [\"Michael\", \"Khanda\", \"Ingutia\"]}\n",
    "print((x))\n",
    "print(type (x))\n",
    "print(x[\"Name\"])\n",
    "x[\"Name\"]=[\"Michael\", \"Khanda\", \"Neema\"]\n",
    "print((x))"
   ]
  },
  {
   "cell_type": "code",
   "execution_count": 30,
   "id": "aa2888a3",
   "metadata": {},
   "outputs": [
    {
     "name": "stdout",
     "output_type": "stream",
     "text": [
      "The student name is Heihei\n",
      "The student number is 123\n"
     ]
    }
   ],
   "source": [
    "# Object Oriented Programming\n",
    "\n",
    "class Student:\n",
    "    def __init__(self, Name, Number):\n",
    "        self.Name = Name\n",
    "        self.Number = Number\n",
    "    def display(self):\n",
    "            print (\"The student name is\", self.Name)\n",
    "            print(\"The student number is\", self.Number)\n",
    "s1 = Student(\"Heihei\", 123)\n",
    "s1.display()"
   ]
  },
  {
   "cell_type": "code",
   "execution_count": 32,
   "id": "c5f91ca4",
   "metadata": {},
   "outputs": [
    {
     "name": "stdout",
     "output_type": "stream",
     "text": [
      "The student name is Heihei\n",
      "The student number is 123\n",
      "The student Score is 80\n"
     ]
    }
   ],
   "source": [
    "#Working with inheritance\n",
    "\n",
    "class Person:\n",
    "    def __init__(self, Name, Number):\n",
    "        self.Name = Name\n",
    "        self.Number = Number\n",
    "    def display(self):\n",
    "            print (\"The student name is\", self.Name)\n",
    "            print(\"The student number is\", self.Number)\n",
    "class Student:\n",
    "    def __init__(self, Name, Number, Score):\n",
    "        Person.__init__(self, Name, Number)\n",
    "        self.Score = Score\n",
    "    def display2(self):\n",
    "            Person.display(self)\n",
    "            print (\"The student Score is\", self.Score)\n",
    "s1 = Student(\"Heihei\", 123, 80)\n",
    "s1.display2()"
   ]
  },
  {
   "cell_type": "code",
   "execution_count": 33,
   "id": "32850c06",
   "metadata": {},
   "outputs": [
    {
     "data": {
      "image/png": "[encoded data removed]",
      "text/plain": [
       "<Figure size 640x480 with 1 Axes>"
      ]
     },
     "metadata": {},
     "output_type": "display_data"
    }
   ],
   "source": [
    "#Libraries and Visualizations\n",
    "import matplotlib.pyplot as plt\n",
    "import numpy as np\n",
    "x = np.random.randint(100,size = (100))\n",
    "y = np.random.randint(100,size = (100))\n",
    "x.sort()\n",
    "y.sort()\n",
    "plt.plot(x,y)\n",
    "plt.show()"
   ]
  },
  {
   "cell_type": "code",
   "execution_count": 34,
   "id": "cc90d703",
   "metadata": {},
   "outputs": [
    {
     "data": {
      "image/png": "[encoded data removed]",
      "text/plain": [
       "<Figure size 640x480 with 1 Axes>"
      ]
     },
     "metadata": {},
     "output_type": "display_data"
    }
   ],
   "source": [
    "#Libraries and Visualizations\n",
    "import matplotlib.pyplot as plt\n",
    "import numpy as np\n",
    "x = np.random.randint(100,size = (100))\n",
    "y = np.random.randint(100,size = (100))\n",
    "x.sort()\n",
    "y.sort()\n",
    "plt.hist(x,y)\n",
    "plt.show()"
   ]
  },
  {
   "cell_type": "code",
   "execution_count": null,
   "id": "ac8fa3fa",
   "metadata": {},
   "outputs": [],
   "source": []
  }
 ],
 "metadata": {
  "kernelspec": {
   "display_name": "Python 3 (ipykernel)",
   "language": "python",
   "name": "python3"
  },
  "language_info": {
   "codemirror_mode": {
    "name": "ipython",
    "version": 3
   },
   "file_extension": ".py",
   "mimetype": "text/x-python",
   "name": "python",
   "nbconvert_exporter": "python",
   "pygments_lexer": "ipython3",
   "version": "3.9.13"
  }
 },
 "nbformat": 4,
 "nbformat_minor": 5
}
