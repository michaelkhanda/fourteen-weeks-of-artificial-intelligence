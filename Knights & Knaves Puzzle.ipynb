{
 "cells": [
  {
   "cell_type": "code",
   "execution_count": 2,
   "id": "86a315a5",
   "metadata": {},
   "outputs": [],
   "source": [
    "#Rknight  Rknave  Bknight  #Bnave\n",
    "#T        F        F       T\n",
    "#F        T        T      F\n"
   ]
  },
  {
   "cell_type": "code",
   "execution_count": 3,
   "id": "bdc2bbc6",
   "metadata": {},
   "outputs": [],
   "source": [
    "from kanren import *\n",
    "from kanren.constraints import *"
   ]
  },
  {
   "cell_type": "code",
   "execution_count": 6,
   "id": "b6fcd44a",
   "metadata": {},
   "outputs": [
    {
     "name": "stdout",
     "output_type": "stream",
     "text": [
      "Red says I am both a knight and a knave\n",
      "You are a knave\n"
     ]
    }
   ],
   "source": [
    "Rknight, Rknave, Bknight, Bknave = var(), var(), var(), var()\n",
    "\n",
    "R = lany(lall(eq(Rknight,\"T\"), eq(Rknave,\"F\"), eq(Bknight,\"F\"), eq(Bknave,\"T\")), \n",
    "         lall(eq(Rknight,\"F\"), eq(Rknave,\"T\"), eq(Bknight,\"T\"), eq(Bknave,\"F\")))\n",
    "\n",
    "print('Red says I am both a knight and a knave')\n",
    "if(bool(run(0,(Rknight, Rknave, Bknight, Bknave), R, eq(Rknight,\"T\"),eq(Rknave,\"T\"))) == True):\n",
    "    print(\"You are a Knight\")\n",
    "else:\n",
    "    print(\"You are a knave\")"
   ]
  },
  {
   "cell_type": "code",
   "execution_count": 12,
   "id": "261b681d",
   "metadata": {},
   "outputs": [
    {
     "name": "stdout",
     "output_type": "stream",
     "text": [
      "Is California a coastal state? \n",
      "(~Yes,)\n",
      "Is california adjacent to new york?\n",
      "No\n",
      "All coastal states next to Texas\n",
      "('LA',)\n"
     ]
    }
   ],
   "source": [
    "Adjacent = Relation()\n",
    "Coastal = Relation()\n",
    "\n",
    "coastal_states = \"NY,CA,FL,WA,TX,HW,LA\".split(\",\")\n",
    "\n",
    "for state in coastal_states:\n",
    "    fact(Coastal, state)\n",
    "\n",
    "with open(\"adjacentStates.txt\") as f:\n",
    "    adjacentList = [line.strip().split(\",\") for line in f\n",
    "                    if line and line[0].isalpha()]\n",
    "    \n",
    "for L in adjacentList:\n",
    "    head,tail = L[0], L[1:]\n",
    "    for state in tail:\n",
    "        fact(Adjacent, head, state)\n",
    "        \n",
    "x,y,z = var(), var(), var(\"Yes\")\n",
    "print(\"Is California a coastal state? \")\n",
    "print(run(0,z,Coastal(\"NY\")))\n",
    "\n",
    "print(\"Is california adjacent to new york?\")\n",
    "if(bool(run(0,x,Adjacent(\"CA\", \"NY\")))==True):\n",
    "    print(\"Yes\")\n",
    "else:\n",
    "    print(\"No\")\n",
    "    \n",
    "print(\"All coastal states next to Texas\")\n",
    "print(run(0,x,Adjacent(\"TX\",x), Coastal(x)))\n",
    "    "
   ]
  },
  {
   "cell_type": "code",
   "execution_count": null,
   "id": "d1bdd022",
   "metadata": {},
   "outputs": [],
   "source": []
  }
 ],
 "metadata": {
  "kernelspec": {
   "display_name": "Python 3 (ipykernel)",
   "language": "python",
   "name": "python3"
  },
  "language_info": {
   "codemirror_mode": {
    "name": "ipython",
    "version": 3
   },
   "file_extension": ".py",
   "mimetype": "text/x-python",
   "name": "python",
   "nbconvert_exporter": "python",
   "pygments_lexer": "ipython3",
   "version": "3.9.13"
  }
 },
 "nbformat": 4,
 "nbformat_minor": 5
}
