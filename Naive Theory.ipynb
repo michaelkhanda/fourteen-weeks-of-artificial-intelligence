{
 "cells": [
  {
   "cell_type": "code",
   "execution_count": 3,
   "id": "dde38c0b",
   "metadata": {},
   "outputs": [
    {
     "name": "stdout",
     "output_type": "stream",
     "text": [
      "[1]\n"
     ]
    }
   ],
   "source": [
    "weather = [\"sunny\", \"sunny\", \"overcast\", \"rainy\", \"rainy\", \"rainy\", \"overcast\", \"sunny\", \"sunny\", \"rainy\", \"sunny\", \"overcast\", \"overcast\", \"rainy\"]\n",
    "play = [\"no\", \"no\", \"yes\", \"yes\", \"yes\", \"no\", \"yes\", \"no\", \"yes\", \"yes\", \"yes\",\"yes\",\"yes\",\"no\"]\n",
    "\n",
    "from sklearn import preprocessing\n",
    "\n",
    "le = preprocessing.LabelEncoder()\n",
    "\n",
    "encodedWeather = le.fit_transform(weather)\n",
    "encodedPlay = le.fit_transform(play)\n",
    "#print(encodedWeather)\n",
    "#print(encodedPlay)\n",
    "\n",
    "import numpy as np\n",
    "weatherArray = np.reshape(encodedWeather, (-1,1))\n",
    "#print(weatherArray)\n",
    "\n",
    "from sklearn.naive_bayes import GaussianNB\n",
    "\n",
    "model = GaussianNB()\n",
    "model.fit(weatherArray, encodedPlay)\n",
    "predicted = model.predict([[0]])\n",
    "print(predicted)"
   ]
  },
  {
   "cell_type": "code",
   "execution_count": 9,
   "id": "7ab14958",
   "metadata": {},
   "outputs": [
    {
     "name": "stdout",
     "output_type": "stream",
     "text": [
      "[(2, 1), (2, 1), (0, 1), (1, 2), (1, 0), (1, 0), (0, 0), (2, 2), (2, 0), (1, 2), (2, 2), (0, 2), (0, 1), (1, 2)]\n",
      "[0 0 1 1 1 0 1 0 1 1 1 1 1 0]\n",
      "[1]\n"
     ]
    }
   ],
   "source": [
    "weather = [\"sunny\", \"sunny\", \"overcast\", \"rainy\", \"rainy\", \"rainy\", \"overcast\", \"sunny\", \"sunny\", \"rainy\", \"sunny\", \"overcast\", \"overcast\", \"rainy\"]\n",
    "play = [\"no\", \"no\", \"yes\", \"yes\", \"yes\", \"no\", \"yes\", \"no\", \"yes\", \"yes\", \"yes\",\"yes\",\"yes\",\"no\"]\n",
    "temp =[\"Hot\", \"Hot\", \"Hot\", \"Mild\", \"Cool\", \"Cool\", \"Cool\", \"Mild\", \"Cool\", \"Mild\", \"Mild\", \"Mild\", \"Hot\", \"Mild\"]\n",
    "\n",
    "from sklearn import preprocessing\n",
    "\n",
    "le = preprocessing.LabelEncoder()\n",
    "\n",
    "encodedWeather = le.fit_transform(weather)\n",
    "encodedTemp = le.fit_transform(temp)\n",
    "encodedPlay = le.fit_transform(play)\n",
    "features = list(zip(encodedWeather, encodedTemp))\n",
    "#print(encodedWeather)\n",
    "#print(encodedPlay)\n",
    "\n",
    "print(features)\n",
    "print(encodedPlay)\n",
    "\n",
    "import numpy as np\n",
    "weatherArray = np.reshape(encodedWeather, (-1,1))\n",
    "#print(weatherArray)\n",
    "\n",
    "from sklearn.naive_bayes import GaussianNB\n",
    "\n",
    "model = GaussianNB()\n",
    "model.fit(features, encodedPlay)\n",
    "predicted = model.predict([[0,2]])\n",
    "print(predicted)"
   ]
  },
  {
   "cell_type": "code",
   "execution_count": null,
   "id": "49799c7a",
   "metadata": {},
   "outputs": [],
   "source": []
  }
 ],
 "metadata": {
  "kernelspec": {
   "display_name": "Python 3 (ipykernel)",
   "language": "python",
   "name": "python3"
  },
  "language_info": {
   "codemirror_mode": {
    "name": "ipython",
    "version": 3
   },
   "file_extension": ".py",
   "mimetype": "text/x-python",
   "name": "python",
   "nbconvert_exporter": "python",
   "pygments_lexer": "ipython3",
   "version": "3.9.13"
  }
 },
 "nbformat": 4,
 "nbformat_minor": 5
}
