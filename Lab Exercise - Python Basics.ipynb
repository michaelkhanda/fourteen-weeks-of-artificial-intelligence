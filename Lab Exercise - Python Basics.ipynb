{
 "cells": [
  {
   "cell_type": "code",
   "execution_count": 1,
   "id": "703567e7",
   "metadata": {},
   "outputs": [
    {
     "name": "stdout",
     "output_type": "stream",
     "text": [
      "Enter first number: 50\n",
      "Enter second number: 60\n",
      "Largest number is:  60.0\n",
      "Do you want to compare another set of numbers? (yes/no) yes\n",
      "Enter first number: 89\n",
      "Enter second number: 90\n",
      "Largest number is:  90.0\n",
      "Do you want to compare another set of numbers? (yes/no) no\n"
     ]
    }
   ],
   "source": [
    "#Question 1\n",
    "\n",
    "def largest_number():\n",
    "    while True:\n",
    "        num1 = float(input(\"Enter first number: \"))\n",
    "        num2 = float(input(\"Enter second number: \"))\n",
    "        print(\"Largest number is: \", max(num1, num2))\n",
    "\n",
    "        repeat = input(\"Do you want to compare another set of numbers? (yes/no) \")\n",
    "        if repeat.lower() != \"yes\":\n",
    "            break\n",
    "\n",
    "largest_number()\n"
   ]
  },
  {
   "cell_type": "code",
   "execution_count": 2,
   "id": "d42f3d9a",
   "metadata": {},
   "outputs": [
    {
     "name": "stdout",
     "output_type": "stream",
     "text": [
      "Enter number 1: 1\n",
      "Enter number 2: 2\n",
      "Enter number 3: 3\n",
      "Enter number 4: 4\n",
      "Enter number 5: 5\n",
      "Do you want to find the average of even or odd numbers? (even/odd): even\n",
      "The average of even numbers is: 3.0\n",
      "Do you want to provide another set of numbers? (yes/no) yes\n",
      "Enter number 1: 30\n",
      "Enter number 2: 39\n",
      "Enter number 3: 39\n",
      "Enter number 4: 42\n",
      "Enter number 5: 40\n",
      "Do you want to find the average of even or odd numbers? (even/odd): odd\n",
      "The average of odd numbers is: 39.0\n",
      "Do you want to provide another set of numbers? (yes/no) no\n"
     ]
    }
   ],
   "source": [
    "#Question 2\n",
    "\n",
    "def calculate_average(numbers, is_even):\n",
    "    total = 0\n",
    "    count = 0\n",
    "    for num in numbers:\n",
    "        if (num % 2 == 0 and is_even) or (num % 2 != 0 and not is_even):\n",
    "            total += num\n",
    "            count += 1\n",
    "    return total / count if count > 0 else None\n",
    "\n",
    "def get_input():\n",
    "    numbers = []\n",
    "    for i in range(5):\n",
    "        numbers.append(int(input(f\"Enter number {i + 1}: \")))\n",
    "    return numbers\n",
    "\n",
    "def main():\n",
    "    while True:\n",
    "        numbers = get_input()\n",
    "        type_of_numbers = input(\"Do you want to find the average of even or odd numbers? (even/odd): \")\n",
    "        is_even = True if type_of_numbers.lower() == \"even\" else False\n",
    "\n",
    "        average = calculate_average(numbers, is_even)\n",
    "        if average is None:\n",
    "            print(\"There are no numbers to calculate average.\")\n",
    "        else:\n",
    "            print(f\"The average of {'even' if is_even else 'odd'} numbers is: {average}\")\n",
    "\n",
    "        repeat = input(\"Do you want to provide another set of numbers? (yes/no) \")\n",
    "        if repeat.lower() != \"yes\":\n",
    "            break\n",
    "\n",
    "main()\n"
   ]
  },
  {
   "cell_type": "code",
   "execution_count": 4,
   "id": "7eda848d",
   "metadata": {},
   "outputs": [
    {
     "name": "stdout",
     "output_type": "stream",
     "text": [
      "Enter a list of comma separated numbers: 7,7,8,8,9,0,0,0,89,8,9\n",
      "Enter the item to count occurrences: 9\n",
      "9 occurs 2 times in the list.\n"
     ]
    }
   ],
   "source": [
    "#Question 3\n",
    "\n",
    "def count_occurrences(lst, item):\n",
    "    return lst.count(item)\n",
    "\n",
    "def main():\n",
    "    items = [int(x) for x in input(\"Enter a list of comma separated numbers: \").split(\",\")]\n",
    "    item = int(input(\"Enter the item to count occurrences: \"))\n",
    "    count = count_occurrences(items, item)\n",
    "    print(f\"{item} occurs {count} times in the list.\")\n",
    "\n",
    "main()\n",
    "\n"
   ]
  },
  {
   "cell_type": "code",
   "execution_count": 8,
   "id": "9d38b3bb",
   "metadata": {},
   "outputs": [
    {
     "name": "stdout",
     "output_type": "stream",
     "text": [
      "Enter the name of student 1: Miku\n",
      "Enter score of first test: 80\n",
      "Enter score of second test: 20\n",
      "Enter the name of student 2: nem\n",
      "Enter score of first test: 39\n",
      "Enter score of second test: 100\n",
      "Enter the name of student 3: mikl\n",
      "Enter score of first test: 20\n",
      "Enter score of second test: 100\n",
      "Enter the name of student 4: mol\n",
      "Enter score of first test: 19\n",
      "Enter score of second test: 100\n",
      "Enter the name of student 5: ikl\n",
      "Enter score of first test: 17\n",
      "Enter score of second test: 100\n",
      "Students with average above 50 :\n",
      "nem\n",
      "mikl\n",
      "mol\n",
      "ikl\n",
      "Student with highest average: nem\n"
     ]
    }
   ],
   "source": [
    "#Question 4\n",
    "\n",
    "def get_student_scores():\n",
    "    students = []\n",
    "    for i in range(5):\n",
    "        name = input(f\"Enter the name of student {i + 1}: \")\n",
    "        score1 = float(input(\"Enter score of first test: \"))\n",
    "        score2 = float(input(\"Enter score of second test: \"))\n",
    "        students.append({\"name\": name, \"average\": (score1 + score2) / 2})\n",
    "    return students\n",
    "\n",
    "def display_above_average(students, average):\n",
    "    print(\"Students with average above\", average,\":\")\n",
    "    for student in students:\n",
    "        if student[\"average\"] > average:\n",
    "            print(student[\"name\"])\n",
    "\n",
    "def display_highest_average(students):\n",
    "    student = max(students, key=lambda x: x[\"average\"])\n",
    "    print(\"Student with highest average:\", student[\"name\"])\n",
    "\n",
    "def main():\n",
    "    students = get_student_scores()\n",
    "    display_above_average(students, 50)\n",
    "    display_highest_average(students)\n",
    "\n",
    "main()\n",
    "\n"
   ]
  },
  {
   "cell_type": "code",
   "execution_count": null,
   "id": "a032cf6d",
   "metadata": {},
   "outputs": [],
   "source": []
  },
  {
   "cell_type": "code",
   "execution_count": null,
   "id": "d8219e08",
   "metadata": {},
   "outputs": [],
   "source": []
  }
 ],
 "metadata": {
  "kernelspec": {
   "display_name": "Python 3 (ipykernel)",
   "language": "python",
   "name": "python3"
  },
  "language_info": {
   "codemirror_mode": {
    "name": "ipython",
    "version": 3
   },
   "file_extension": ".py",
   "mimetype": "text/x-python",
   "name": "python",
   "nbconvert_exporter": "python",
   "pygments_lexer": "ipython3",
   "version": "3.9.13"
  }
 },
 "nbformat": 4,
 "nbformat_minor": 5
}
