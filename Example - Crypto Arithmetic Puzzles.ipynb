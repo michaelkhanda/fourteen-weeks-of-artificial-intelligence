{
 "cells": [
  {
   "cell_type": "markdown",
   "id": "8a276618",
   "metadata": {},
   "source": [
    "# Example - `CRYPTO ARITHMETIC PUZZLES`"
   ]
  },
  {
   "cell_type": "code",
   "execution_count": 1,
   "id": "30f078ce",
   "metadata": {},
   "outputs": [
    {
     "name": "stdout",
     "output_type": "stream",
     "text": [
      "{'F': 1, 'T': 7, 'O': 5, 'R': 0, 'U': 3, 'W': 6}\n",
      "{'F': 1, 'T': 7, 'O': 4, 'R': 8, 'U': 6, 'W': 3}\n",
      "{'F': 1, 'T': 8, 'O': 7, 'R': 4, 'U': 3, 'W': 6}\n",
      "{'F': 1, 'T': 8, 'O': 6, 'R': 2, 'U': 9, 'W': 4}\n",
      "{'F': 1, 'T': 8, 'O': 6, 'R': 2, 'U': 7, 'W': 3}\n",
      "{'F': 1, 'T': 9, 'O': 8, 'R': 6, 'U': 5, 'W': 2}\n",
      "{'F': 1, 'T': 9, 'O': 8, 'R': 6, 'U': 7, 'W': 3}\n"
     ]
    }
   ],
   "source": [
    "import constraint\n",
    "problem = constraint.Problem()\n",
    "problem.addVariables('TF', range(1,10))\n",
    "problem.addVariables('WOUR', range(10))\n",
    "\n",
    "def sumConstraint(T,W,O,F,U,R):\n",
    "    if (T * 100 + W * 10 + O * 1) * 2 == (F * 1000 + O * 100 + U * 10 + R * 1):\n",
    "        return True\n",
    "problem.addConstraint(sumConstraint,'TWOFUR')\n",
    "problem.addConstraint(constraint.AllDifferentConstraint())\n",
    "solutions = problem.getSolutions()\n",
    "\n",
    "for s in solutions:\n",
    "    print(s)\n"
   ]
  },
  {
   "cell_type": "code",
   "execution_count": null,
   "id": "d0282506",
   "metadata": {},
   "outputs": [],
   "source": []
  }
 ],
 "metadata": {
  "kernelspec": {
   "display_name": "Python 3 (ipykernel)",
   "language": "python",
   "name": "python3"
  },
  "language_info": {
   "codemirror_mode": {
    "name": "ipython",
    "version": 3
   },
   "file_extension": ".py",
   "mimetype": "text/x-python",
   "name": "python",
   "nbconvert_exporter": "python",
   "pygments_lexer": "ipython3",
   "version": "3.9.13"
  }
 },
 "nbformat": 4,
 "nbformat_minor": 5
}
