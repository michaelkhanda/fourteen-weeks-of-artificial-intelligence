{
 "cells": [
  {
   "cell_type": "markdown",
   "id": "8732d1c2",
   "metadata": {},
   "source": [
    "# `Constraint Solving Problems`"
   ]
  },
  {
   "cell_type": "code",
   "execution_count": 2,
   "id": "9cea02af",
   "metadata": {},
   "outputs": [
    {
     "name": "stdout",
     "output_type": "stream",
     "text": [
      "{'x': 3, 'y': 9}\n",
      "{'x': 3, 'y': 8}\n",
      "{'x': 3, 'y': 7}\n",
      "{'x': 3, 'y': 6}\n",
      "{'x': 3, 'y': 5}\n",
      "{'x': 3, 'y': 4}\n",
      "{'x': 3, 'y': 3}\n",
      "{'x': 3, 'y': 2}\n",
      "{'x': 2, 'y': 9}\n",
      "{'x': 2, 'y': 8}\n",
      "{'x': 2, 'y': 7}\n",
      "{'x': 2, 'y': 6}\n",
      "{'x': 2, 'y': 5}\n",
      "{'x': 2, 'y': 4}\n",
      "{'x': 2, 'y': 3}\n",
      "{'x': 1, 'y': 9}\n",
      "{'x': 1, 'y': 8}\n",
      "{'x': 1, 'y': 7}\n",
      "{'x': 1, 'y': 6}\n",
      "{'x': 1, 'y': 5}\n",
      "{'x': 1, 'y': 4}\n"
     ]
    }
   ],
   "source": [
    "import constraint\n",
    "\n",
    "problem = constraint.Problem()\n",
    "problem.addVariable('x', [1,2,3])\n",
    "problem.addVariable('y', range (10))\n",
    "\n",
    "def myConstraint(x,y):\n",
    "    if x + y >= 5:\n",
    "        return True\n",
    "    \n",
    "problem.addConstraint(myConstraint, ['x', 'y'])\n",
    "\n",
    "solutions = problem.getSolutions()\n",
    "\n",
    "for s in solutions:\n",
    "    print(s)\n",
    "    \n",
    "\n"
   ]
  },
  {
   "cell_type": "code",
   "execution_count": null,
   "id": "14a3a526",
   "metadata": {},
   "outputs": [],
   "source": []
  }
 ],
 "metadata": {
  "kernelspec": {
   "display_name": "Python 3 (ipykernel)",
   "language": "python",
   "name": "python3"
  },
  "language_info": {
   "codemirror_mode": {
    "name": "ipython",
    "version": 3
   },
   "file_extension": ".py",
   "mimetype": "text/x-python",
   "name": "python",
   "nbconvert_exporter": "python",
   "pygments_lexer": "ipython3",
   "version": "3.9.13"
  }
 },
 "nbformat": 4,
 "nbformat_minor": 5
}
