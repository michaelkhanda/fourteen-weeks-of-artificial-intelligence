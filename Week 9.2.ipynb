{
 "cells": [
  {
   "cell_type": "markdown",
   "id": "18ee7c59",
   "metadata": {},
   "source": [
    "# Eq Constraint"
   ]
  },
  {
   "cell_type": "code",
   "execution_count": 1,
   "id": "a730991b",
   "metadata": {},
   "outputs": [
    {
     "name": "stdout",
     "output_type": "stream",
     "text": [
      "(5,)\n"
     ]
    }
   ],
   "source": [
    "from kanren import *\n",
    "# x =5, what is x?\n",
    "x = var()\n",
    "print(run(0, x, eq(x,5)))"
   ]
  },
  {
   "cell_type": "code",
   "execution_count": 2,
   "id": "6289b711",
   "metadata": {},
   "outputs": [
    {
     "name": "stdout",
     "output_type": "stream",
     "text": [
      "([5, 5],)\n"
     ]
    }
   ],
   "source": [
    "# x = 5, x = z, What is z?\n",
    "\n",
    "x,z = var(), var()\n",
    "print(run(0, [z,x], eq(x,5), eq(x,z)))"
   ]
  },
  {
   "cell_type": "markdown",
   "id": "42bf4817",
   "metadata": {},
   "source": [
    "# MemberO Constraint"
   ]
  },
  {
   "cell_type": "code",
   "execution_count": 3,
   "id": "7941802d",
   "metadata": {},
   "outputs": [
    {
     "name": "stdout",
     "output_type": "stream",
     "text": [
      "(2, 3)\n"
     ]
    }
   ],
   "source": [
    "# x is a member of 1,2,3 and x is a member of 2,3,4. What is x?\n",
    "\n",
    "print(run(0, x,membero(x,(1,2,3)), membero(x,(2,3,4))))"
   ]
  },
  {
   "cell_type": "markdown",
   "id": "416a6854",
   "metadata": {},
   "source": [
    "# Not Equal To Constraint (neq)"
   ]
  },
  {
   "cell_type": "code",
   "execution_count": 4,
   "id": "27c39067",
   "metadata": {},
   "outputs": [
    {
     "name": "stdout",
     "output_type": "stream",
     "text": [
      "(2, 3)\n"
     ]
    }
   ],
   "source": [
    "# x is not 1, x is either 1,2 or 3\n",
    "from kanren.constraints import *\n",
    "\n",
    "print(run(0, x, neq(x, 1), membero(x, (1, 2,3))))"
   ]
  },
  {
   "cell_type": "markdown",
   "id": "b322a0c6",
   "metadata": {},
   "source": [
    "# Is instance of constraint (isinstanceo)"
   ]
  },
  {
   "cell_type": "code",
   "execution_count": 5,
   "id": "d7e6920a",
   "metadata": {},
   "outputs": [
    {
     "name": "stdout",
     "output_type": "stream",
     "text": [
      "(2,)\n"
     ]
    }
   ],
   "source": [
    "# x is either 1.1,2 or 3.3, x is an integer. What is x?\n",
    "from kanren.constraints import *\n",
    "\n",
    "print(run(0, x, isinstanceo(x, int), membero(x, (1.1,2,3.3))))"
   ]
  },
  {
   "cell_type": "markdown",
   "id": "f1f241b8",
   "metadata": {},
   "source": [
    "# Modus Ponen"
   ]
  },
  {
   "cell_type": "code",
   "execution_count": 6,
   "id": "1e140f53",
   "metadata": {},
   "outputs": [
    {
     "name": "stdout",
     "output_type": "stream",
     "text": [
      "(False,)\n"
     ]
    }
   ],
   "source": [
    "# if p --> q, p,q ( if p implies q AND q is true then p is q)\n",
    "\n",
    "p,q = var(), var()\n",
    "print(run(0, q, eq(p,q), membero(p, (True, False)), membero(q, (True, False)), eq(p, False) ))"
   ]
  },
  {
   "cell_type": "code",
   "execution_count": null,
   "id": "c7a50233",
   "metadata": {},
   "outputs": [],
   "source": []
  }
 ],
 "metadata": {
  "kernelspec": {
   "display_name": "Python 3 (ipykernel)",
   "language": "python",
   "name": "python3"
  },
  "language_info": {
   "codemirror_mode": {
    "name": "ipython",
    "version": 3
   },
   "file_extension": ".py",
   "mimetype": "text/x-python",
   "name": "python",
   "nbconvert_exporter": "python",
   "pygments_lexer": "ipython3",
   "version": "3.9.13"
  }
 },
 "nbformat": 4,
 "nbformat_minor": 5
}
