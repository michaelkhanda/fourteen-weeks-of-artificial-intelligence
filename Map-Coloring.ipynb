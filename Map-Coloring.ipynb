{
 "cells": [
  {
   "cell_type": "markdown",
   "id": "a01dbc6d",
   "metadata": {},
   "source": [
    "# `MAP - COLORING`"
   ]
  },
  {
   "cell_type": "code",
   "execution_count": 2,
   "id": "c607a76d",
   "metadata": {},
   "outputs": [
    {
     "name": "stdout",
     "output_type": "stream",
     "text": [
      "{'NSW': 'Blue', 'NT': 'Blue', 'Q': 'Green', 'SA': 'Red', 'T': 'Blue', 'V': 'Green', 'WA': 'Green'}\n",
      "{'NSW': 'Blue', 'NT': 'Blue', 'Q': 'Green', 'SA': 'Red', 'T': 'Green', 'V': 'Blue', 'WA': 'Green'}\n",
      "{'NSW': 'Blue', 'NT': 'Blue', 'Q': 'Green', 'SA': 'Red', 'T': 'Red', 'V': 'Blue', 'WA': 'Green'}\n",
      "{'NSW': 'Blue', 'NT': 'Blue', 'Q': 'Green', 'SA': 'Red', 'T': 'Red', 'V': 'Green', 'WA': 'Green'}\n",
      "{'NSW': 'Blue', 'NT': 'Blue', 'Q': 'Red', 'SA': 'Green', 'T': 'Blue', 'V': 'Red', 'WA': 'Red'}\n",
      "{'NSW': 'Blue', 'NT': 'Blue', 'Q': 'Red', 'SA': 'Green', 'T': 'Green', 'V': 'Blue', 'WA': 'Red'}\n",
      "{'NSW': 'Blue', 'NT': 'Blue', 'Q': 'Red', 'SA': 'Green', 'T': 'Green', 'V': 'Red', 'WA': 'Red'}\n",
      "{'NSW': 'Blue', 'NT': 'Blue', 'Q': 'Red', 'SA': 'Green', 'T': 'Red', 'V': 'Blue', 'WA': 'Red'}\n",
      "{'NSW': 'Green', 'NT': 'Green', 'Q': 'Blue', 'SA': 'Red', 'T': 'Blue', 'V': 'Green', 'WA': 'Blue'}\n",
      "{'NSW': 'Green', 'NT': 'Green', 'Q': 'Blue', 'SA': 'Red', 'T': 'Green', 'V': 'Blue', 'WA': 'Blue'}\n",
      "{'NSW': 'Green', 'NT': 'Green', 'Q': 'Blue', 'SA': 'Red', 'T': 'Red', 'V': 'Blue', 'WA': 'Blue'}\n",
      "{'NSW': 'Green', 'NT': 'Green', 'Q': 'Blue', 'SA': 'Red', 'T': 'Red', 'V': 'Green', 'WA': 'Blue'}\n",
      "{'NSW': 'Green', 'NT': 'Green', 'Q': 'Red', 'SA': 'Blue', 'T': 'Blue', 'V': 'Green', 'WA': 'Red'}\n",
      "{'NSW': 'Green', 'NT': 'Green', 'Q': 'Red', 'SA': 'Blue', 'T': 'Blue', 'V': 'Red', 'WA': 'Red'}\n",
      "{'NSW': 'Green', 'NT': 'Green', 'Q': 'Red', 'SA': 'Blue', 'T': 'Green', 'V': 'Red', 'WA': 'Red'}\n",
      "{'NSW': 'Green', 'NT': 'Green', 'Q': 'Red', 'SA': 'Blue', 'T': 'Red', 'V': 'Green', 'WA': 'Red'}\n",
      "{'NSW': 'Red', 'NT': 'Red', 'Q': 'Blue', 'SA': 'Green', 'T': 'Blue', 'V': 'Red', 'WA': 'Blue'}\n",
      "{'NSW': 'Red', 'NT': 'Red', 'Q': 'Blue', 'SA': 'Green', 'T': 'Green', 'V': 'Blue', 'WA': 'Blue'}\n",
      "{'NSW': 'Red', 'NT': 'Red', 'Q': 'Blue', 'SA': 'Green', 'T': 'Green', 'V': 'Red', 'WA': 'Blue'}\n",
      "{'NSW': 'Red', 'NT': 'Red', 'Q': 'Blue', 'SA': 'Green', 'T': 'Red', 'V': 'Blue', 'WA': 'Blue'}\n",
      "{'NSW': 'Red', 'NT': 'Red', 'Q': 'Green', 'SA': 'Blue', 'T': 'Blue', 'V': 'Green', 'WA': 'Green'}\n",
      "{'NSW': 'Red', 'NT': 'Red', 'Q': 'Green', 'SA': 'Blue', 'T': 'Blue', 'V': 'Red', 'WA': 'Green'}\n",
      "{'NSW': 'Red', 'NT': 'Red', 'Q': 'Green', 'SA': 'Blue', 'T': 'Green', 'V': 'Red', 'WA': 'Green'}\n",
      "{'NSW': 'Red', 'NT': 'Red', 'Q': 'Green', 'SA': 'Blue', 'T': 'Red', 'V': 'Green', 'WA': 'Green'}\n"
     ]
    }
   ],
   "source": [
    "import constraint\n",
    "\n",
    "problem = constraint.Problem()\n",
    "problem.addVariable('WA', ['Red', 'Green', 'Blue'])\n",
    "problem.addVariable('NT', ['Red', 'Green', 'Blue'])\n",
    "problem.addVariable('Q', ['Red', 'Green', 'Blue'])\n",
    "problem.addVariable('NSW', ['Red', 'Green', 'Blue'])\n",
    "problem.addVariable('V', ['Red', 'Green', 'Blue'])\n",
    "problem.addVariable('SA', ['Red', 'Green', 'Blue'])\n",
    "problem.addVariable('T', ['Red', 'Green', 'Blue'])\n",
    "\n",
    "def MyConstraint(WA, NT, Q, NSW, V, SA, T):\n",
    "    if WA != NT and WA != SA and\\\n",
    "    NT != SA and NT != Q and\\\n",
    "    Q != SA and Q != NSW and\\\n",
    "    SA != NSW and SA != V and\\\n",
    "    V != T:\n",
    "        return True\n",
    "\n",
    "problem.addConstraint(MyConstraint, ['WA', 'NT', 'Q', 'NSW', 'V', 'SA', 'T' ])\n",
    "solutions = problem.getSolutions()\n",
    "\n",
    "for s in solutions:\n",
    "    print(s)\n"
   ]
  },
  {
   "cell_type": "code",
   "execution_count": null,
   "id": "522b424f",
   "metadata": {},
   "outputs": [],
   "source": []
  }
 ],
 "metadata": {
  "kernelspec": {
   "display_name": "Python 3 (ipykernel)",
   "language": "python",
   "name": "python3"
  },
  "language_info": {
   "codemirror_mode": {
    "name": "ipython",
    "version": 3
   },
   "file_extension": ".py",
   "mimetype": "text/x-python",
   "name": "python",
   "nbconvert_exporter": "python",
   "pygments_lexer": "ipython3",
   "version": "3.9.13"
  }
 },
 "nbformat": 4,
 "nbformat_minor": 5
}
