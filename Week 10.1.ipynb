{
 "cells": [
  {
   "cell_type": "code",
   "execution_count": 1,
   "id": "a3d81c94",
   "metadata": {},
   "outputs": [
    {
     "data": {
      "text/html": [
       "<style>.container { width:80% !important; }</style>"
      ],
      "text/plain": [
       "<IPython.core.display.HTML object>"
      ]
     },
     "metadata": {},
     "output_type": "display_data"
    }
   ],
   "source": [
    "from IPython.display import display, HTML\n",
    "display(HTML(\"<style>.container { width:80% !important; }</style>\"))"
   ]
  },
  {
   "cell_type": "code",
   "execution_count": 2,
   "id": "b2bf2b9c",
   "metadata": {},
   "outputs": [],
   "source": [
    "from kanren import *\n",
    "from kanren.constraints import *\n",
    "p,q,r = var(), var(), var()"
   ]
  },
  {
   "cell_type": "markdown",
   "id": "8d1b00d1",
   "metadata": {},
   "source": [
    "# Modus Ponen"
   ]
  },
  {
   "cell_type": "code",
   "execution_count": 3,
   "id": "386a135b",
   "metadata": {},
   "outputs": [
    {
     "name": "stdout",
     "output_type": "stream",
     "text": [
      "(True,)\n"
     ]
    }
   ],
   "source": [
    "print(run(0,q, eq(p,q), membero(p,(True, False)), membero(q,(True, False)), eq(p, True)))"
   ]
  },
  {
   "cell_type": "markdown",
   "id": "535e8deb",
   "metadata": {},
   "source": [
    "# Modus Tollens"
   ]
  },
  {
   "cell_type": "code",
   "execution_count": 4,
   "id": "d4e70717",
   "metadata": {},
   "outputs": [
    {
     "name": "stdout",
     "output_type": "stream",
     "text": [
      "(False,)\n"
     ]
    }
   ],
   "source": [
    "print(run(0,q, eq(p,q), membero(p,(True, False)), membero(q,(True, False)), eq(p, False)))"
   ]
  },
  {
   "cell_type": "markdown",
   "id": "f6c6ade3",
   "metadata": {},
   "source": [
    "# Hypothetical Syllogysn"
   ]
  },
  {
   "cell_type": "code",
   "execution_count": 5,
   "id": "55fcb8f0",
   "metadata": {},
   "outputs": [
    {
     "name": "stdout",
     "output_type": "stream",
     "text": [
      "(True,)\n"
     ]
    }
   ],
   "source": [
    "print(run(0,p, eq(p,q), eq(q,r), membero(p,(True, False)), membero(q,(True, False)), membero(r,(True, False)), eq(r, True)))"
   ]
  },
  {
   "cell_type": "markdown",
   "id": "0c1d8534",
   "metadata": {},
   "source": [
    "# Disjunctive Syllogysm"
   ]
  },
  {
   "cell_type": "code",
   "execution_count": 6,
   "id": "2a9c29c0",
   "metadata": {},
   "outputs": [
    {
     "name": "stdout",
     "output_type": "stream",
     "text": [
      "((False, True),)\n"
     ]
    }
   ],
   "source": [
    "print(run(0,(p,q), lany(eq(p,True), eq(q,True)), membero(p,(True, False)), membero(q,(True, False)), neq(p, True)))"
   ]
  },
  {
   "cell_type": "markdown",
   "id": "1514db7c",
   "metadata": {},
   "source": [
    "# Addition Rule"
   ]
  },
  {
   "cell_type": "code",
   "execution_count": 7,
   "id": "7d58e437",
   "metadata": {},
   "outputs": [
    {
     "name": "stdout",
     "output_type": "stream",
     "text": [
      "((True, True), (True, True), (True, False))\n"
     ]
    }
   ],
   "source": [
    "print(run(0,(p,q), lany(eq(p,True), eq(q,True)), membero(p,(True, False)), membero(q,(True, False)), eq(p, True)))"
   ]
  },
  {
   "cell_type": "markdown",
   "id": "e92f7c00",
   "metadata": {},
   "source": [
    "# Simplification Rule"
   ]
  },
  {
   "cell_type": "code",
   "execution_count": 8,
   "id": "f52a9137",
   "metadata": {},
   "outputs": [
    {
     "name": "stdout",
     "output_type": "stream",
     "text": [
      "((True, True),)\n"
     ]
    }
   ],
   "source": [
    "print(run(0,(p,q), lall(eq(p,True), eq(q,True)), membero(p,(True, False)), membero(q,(True, False)), eq(p, True)))"
   ]
  },
  {
   "cell_type": "markdown",
   "id": "3fef0764",
   "metadata": {},
   "source": []
  }
 ],
 "metadata": {
  "kernelspec": {
   "display_name": "Python 3 (ipykernel)",
   "language": "python",
   "name": "python3"
  },
  "language_info": {
   "codemirror_mode": {
    "name": "ipython",
    "version": 3
   },
   "file_extension": ".py",
   "mimetype": "text/x-python",
   "name": "python",
   "nbconvert_exporter": "python",
   "pygments_lexer": "ipython3",
   "version": "3.9.13"
  }
 },
 "nbformat": 4,
 "nbformat_minor": 5
}
